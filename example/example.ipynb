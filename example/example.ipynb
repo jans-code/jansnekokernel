{
 "cells": [
  {
   "cell_type": "code",
   "execution_count": 1,
   "id": "a52cfffe-9c99-4acd-a387-0aec316ff74f",
   "metadata": {
    "tags": []
   },
   "outputs": [
    {
     "name": "stdout",
     "output_type": "stream",
     "text": [
      "hello neko world !"
     ]
    }
   ],
   "source": [
    "$print(\"hello neko world !\");"
   ]
  }
 ],
 "metadata": {
  "kernelspec": {
   "display_name": "Neko",
   "language": "",
   "name": "jansnekokernel"
  },
  "language_info": {
   "file_extension": ".neko",
   "mimetype": "application/neko",
   "name": "neko"
  }
 },
 "nbformat": 4,
 "nbformat_minor": 5
}
