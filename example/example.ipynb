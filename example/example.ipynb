{
 "cells": [
  {
   "cell_type": "markdown",
   "id": "e6bb55df-cc2b-4db1-a4ae-fbad582f2539",
   "metadata": {},
   "source": [
    "# Use nekovm in a jupyter notebook!"
   ]
  },
  {
   "cell_type": "code",
   "execution_count": 2,
   "id": "a52cfffe-9c99-4acd-a387-0aec316ff74f",
   "metadata": {
    "tags": []
   },
   "outputs": [
    {
     "name": "stdout",
     "output_type": "stream",
     "text": [
      "Hello world!"
     ]
    }
   ],
   "source": [
    "$print(\"Hello world!\");"
   ]
  },
  {
   "cell_type": "code",
   "execution_count": 3,
   "id": "e2dbe477-d020-41f0-bf8d-fa770e7eca1a",
   "metadata": {
    "tags": []
   },
   "outputs": [
    {
     "name": "stdout",
     "output_type": "stream",
     "text": [
      "6"
     ]
    }
   ],
   "source": [
    "a = 1 + 5;\n",
    "$print(a);"
   ]
  }
 ],
 "metadata": {
  "kernelspec": {
   "display_name": "Neko",
   "language": "",
   "name": "jansnekokernel"
  },
  "language_info": {
   "file_extension": ".neko",
   "mimetype": "application/neko",
   "name": "neko"
  }
 },
 "nbformat": 4,
 "nbformat_minor": 5
}
